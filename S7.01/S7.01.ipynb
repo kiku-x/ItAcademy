{
 "cells": [
  {
   "cell_type": "markdown",
   "metadata": {},
   "source": [
    "NIVEL 1"
   ]
  },
  {
   "cell_type": "markdown",
   "metadata": {},
   "source": [
    "Ex 1: Calculadora de l'índex de massa corporal:"
   ]
  },
  {
   "cell_type": "code",
   "execution_count": 125,
   "metadata": {},
   "outputs": [
    {
     "name": "stdout",
     "output_type": "stream",
     "text": [
      "Bajo peso: <18,5\n",
      "Peso normal: 18,5-24,9\n",
      "Sobrepeso: 24,9-29,9\n",
      "Obesidad: >30\n",
      "Tu resultados es:  23.37472607742878\n"
     ]
    }
   ],
   "source": [
    "altura = float(input(\"Ingresa tu altura en centímetros:\"))\n",
    "peso = float(input(\"Ingresa tu peso en kg:\"))\n",
    "\n",
    "altura = altura / 100\n",
    "imc = peso / (altura * altura)\n",
    "\n",
    "print(\"Bajo peso: <18,5\")\n",
    "print(\"Peso normal: 18,5-24,9\")\n",
    "print(\"Sobrepeso: 24,9-29,9\")\n",
    "print(\"Obesidad: >30\")\n",
    "print(\"Tu resultados es: \", imc)"
   ]
  },
  {
   "cell_type": "markdown",
   "metadata": {},
   "source": [
    "Ex 2: Convertidor de temperatures de Celsius a Fahrenheit"
   ]
  },
  {
   "cell_type": "code",
   "execution_count": 129,
   "metadata": {},
   "outputs": [
    {
     "name": "stdout",
     "output_type": "stream",
     "text": [
      "86.0 °F\n"
     ]
    }
   ],
   "source": [
    "celsius = float(input(\"Ingresa la temperatura en ºCelsius:\"))\n",
    "\n",
    "fahrenheit = (celsius * 9 / 5) + 32\n",
    "\n",
    "print(fahrenheit,\"°F\")"
   ]
  },
  {
   "cell_type": "markdown",
   "metadata": {},
   "source": [
    "Ex 3: Comptador de paraules d'un text."
   ]
  },
  {
   "cell_type": "code",
   "execution_count": 131,
   "metadata": {},
   "outputs": [
    {
     "name": "stdout",
     "output_type": "stream",
     "text": [
      "Número de palabras:  2\n"
     ]
    }
   ],
   "source": [
    "textInput = str(input(\"Ingresa el texto del que quieras contar las palabras:\"))\n",
    "\n",
    "palabras = textInput.split()\n",
    "\n",
    "numeroDePalabras = len(palabras)\n",
    "\n",
    "print(\"Número de palabras:\", numeroDePalabras)"
   ]
  },
  {
   "cell_type": "markdown",
   "metadata": {},
   "source": [
    "Ex 4: Diccionari invers."
   ]
  },
  {
   "cell_type": "code",
   "execution_count": 134,
   "metadata": {},
   "outputs": [
    {
     "name": "stdout",
     "output_type": "stream",
     "text": [
      "Diccionario original: {'a': 1, 'b': 2, 'c': 3, 'd': 5, 'e': 5}\n",
      "Diccionario inverso: {1: 'a', 2: 'b', 3: 'c', 5: 'e'}\n",
      "Se encontraron valores repetidos.\n"
     ]
    }
   ],
   "source": [
    "def invert_dict(dictionary):\n",
    "    inverted_dict = {value: key for key, value in dictionary.items()}\n",
    "    return inverted_dict\n",
    "\n",
    "def check_duplicates(dictionary):\n",
    "    if len(set(dictionary.values())) != len(dictionary):\n",
    "        print(\"Se encontraron valores repetidos.\")\n",
    "\n",
    "OriginalDictionary = {'a': 1, 'b': 2, 'c': 3, 'd': 5, 'e': 5, }\n",
    "invertedDictionary = invert_dict(OriginalDictionary)\n",
    "\n",
    "print(\"Diccionario original:\", OriginalDictionary)\n",
    "print(\"Diccionario inverso:\", invertedDictionary)\n",
    "check_duplicates(OriginalDictionary)\n",
    "\n"
   ]
  },
  {
   "cell_type": "markdown",
   "metadata": {},
   "source": [
    "NIVELL 2"
   ]
  },
  {
   "cell_type": "markdown",
   "metadata": {},
   "source": [
    "Ex 1: Diccionari invers amb duplicats"
   ]
  },
  {
   "cell_type": "code",
   "execution_count": 135,
   "metadata": {},
   "outputs": [
    {
     "name": "stdout",
     "output_type": "stream",
     "text": [
      "Duplicated numbers:  [2, 3, 1]\n"
     ]
    }
   ],
   "source": [
    "OriginalDictionary = {'a': 1, 'b': 2, 'c': 3, 'd': 2, 'e': 3, 'f': 1}\n",
    "\n",
    "def check_duplicates(dictionary):\n",
    "    seen = []\n",
    "    duplicated = []\n",
    "\n",
    "    for value in dictionary.values():\n",
    "        if value in seen:\n",
    "            duplicated.append(value)\n",
    "        else:\n",
    "            seen.append(value)\n",
    "\n",
    "    return duplicated\n",
    "\n",
    "print(\"Duplicated numbers: \", check_duplicates(OriginalDictionary))\n",
    "\n",
    "\n",
    "\n",
    "\n",
    "\n",
    "\n",
    "\n"
   ]
  },
  {
   "cell_type": "markdown",
   "metadata": {},
   "source": [
    "Ex 2: Conversió de tipus de dades"
   ]
  },
  {
   "cell_type": "code",
   "execution_count": 136,
   "metadata": {},
   "outputs": [
    {
     "name": "stdout",
     "output_type": "stream",
     "text": [
      "Números float:  [1.3, 10000000000.0]\n",
      "Números no convertibles:  ['one', 'seven', '3-1/2', ('2', 1, 1.4, 'not-a-number'), [1, 2, '3', '3.4']]\n"
     ]
    }
   ],
   "source": [
    "def filterNumbers(inputList):\n",
    "    floatNumbers = []\n",
    "    nonFloatNumbers = []\n",
    "\n",
    "    for element in inputList:\n",
    "        if isinstance(element,str):\n",
    "            try:\n",
    "                floatElement = float(element)\n",
    "                floatNumbers.append(floatElement)\n",
    "            except ValueError:\n",
    "                nonFloatNumbers.append(element)\n",
    "        else:\n",
    "            nonFloatNumbers.append(element)\n",
    "        \n",
    "    return floatNumbers, nonFloatNumbers\n",
    "\n",
    "myList = [ '1.3', 'one' , '1e10' , 'seven', '3-1/2', ('2',1,1.4,'not-a-number'), [1,2,'3','3.4']]\n",
    "floats, nonFloats = filterNumbers(myList)\n",
    "\n",
    "print(\"Números float: \", floats)\n",
    "print(\"Números no convertibles: \", nonFloats)"
   ]
  },
  {
   "cell_type": "markdown",
   "metadata": {},
   "source": [
    "NIVELL 3"
   ]
  },
  {
   "cell_type": "markdown",
   "metadata": {},
   "source": [
    "Ex 1: Comptador i endreçador de paraules d'un text."
   ]
  },
  {
   "cell_type": "code",
   "execution_count": 146,
   "metadata": {},
   "outputs": [
    {
     "name": "stdout",
     "output_type": "stream",
     "text": [
      "a:\n",
      " 'a': 3\n",
      " 'agua': 1\n",
      " 'al': 2\n",
      " 'alba': 4\n",
      " 'alcobas': 1\n",
      " 'alimenta': 1\n",
      " 'alma': 1\n",
      " 'amarga': 1\n",
      " 'azucena': 1\n",
      "b:\n",
      " 'baco': 1\n",
      " 'banquete': 1\n",
      " 'bebe': 1\n",
      " 'blanca': 3\n",
      " 'boca': 1\n",
      " 'bosques': 1\n",
      " 'buen': 1\n",
      "c:\n",
      " 'cabañas': 1\n",
      " 'carnes': 2\n",
      " 'casta': 3\n",
      " 'cerrada': 1\n",
      " 'con': 4\n",
      " 'conservas': 1\n",
      " 'copas': 1\n",
      " 'corola': 1\n",
      " 'corriste': 1\n",
      " 'cuando': 2\n",
      " 'cubierto': 1\n",
      " 'cuerpo': 1\n",
      " 'cuáles': 1\n",
      "d:\n",
      " 'de': 8\n",
      " 'dejaste': 1\n",
      " 'del': 1\n",
      " 'diga': 1\n",
      " 'dios': 2\n",
      " 'duerme': 1\n",
      "e:\n",
      " 'el': 4\n",
      " 'ellas': 1\n",
      " 'en': 4\n",
      " 'engaño': 1\n",
      " 'enredada': 1\n",
      " 'entonces': 1\n",
      " 'escarcha': 1\n",
      " 'espumas': 1\n",
      " 'esqueleto': 1\n",
      " 'estrago': 1\n",
      "f:\n",
      " 'festejando': 1\n",
      " 'filtrado': 1\n",
      " 'frutos': 1\n",
      "h:\n",
      " 'habla': 1\n",
      " 'hacia': 1\n",
      " 'haya': 1\n",
      " 'hayas': 1\n",
      " 'hermana': 1\n",
      " 'hombre': 1\n",
      " 'hubiste': 1\n",
      " 'huye': 1\n",
      "i:\n",
      " 'intacto': 1\n",
      "j:\n",
      " 'jardines': 1\n",
      "l:\n",
      " 'la': 3\n",
      " 'labios': 1\n",
      " 'las': 7\n",
      " 'lo': 2\n",
      " 'los': 4\n",
      " 'luna': 1\n",
      " 'lévate': 1\n",
      " 'límpiate': 1\n",
      "m:\n",
      " 'mano': 1\n",
      " 'manos': 1\n",
      " 'margarita': 1\n",
      " 'me': 9\n",
      " 'mi': 1\n",
      " 'mieles': 1\n",
      " 'milagros': 1\n",
      " 'mojada': 1\n",
      " 'montaña': 1\n",
      " 'morados': 1\n",
      "n:\n",
      " 'negros': 1\n",
      " 'ni': 2\n",
      " 'no': 1\n",
      " 'nácar': 1\n",
      " 'nívea': 2\n",
      "p:\n",
      " 'perdone': 2\n",
      " 'perfume': 1\n",
      " 'por': 2\n",
      " 'pretendes': 3\n",
      " 'preténdeme': 3\n",
      " 'puesto': 1\n",
      " 'pájaros': 1\n",
      " 'pámpanos': 1\n",
      "q:\n",
      " 'que': 6\n",
      " 'quedó': 1\n",
      " 'quieres': 6\n",
      "r:\n",
      " 'rayo': 1\n",
      " 'raíz': 1\n",
      " 'renueva': 1\n",
      " 'rocas': 1\n",
      " 'rojo': 1\n",
      "s:\n",
      " 'salitre': 1\n",
      " 'se': 2\n",
      " 'sea': 1\n",
      " 'sean': 1\n",
      " 'sobre': 2\n",
      " 'sé': 1\n",
      "t:\n",
      " 'te': 3\n",
      " 'tejidos': 1\n",
      " 'tenue': 1\n",
      " 'tierra': 1\n",
      " 'toca': 1\n",
      " 'todas': 2\n",
      " 'todavía': 1\n",
      " 'tornadas': 1\n",
      " 'tú': 8\n",
      "u:\n",
      " 'un': 1\n",
      " 'una': 1\n",
      "v:\n",
      " 'vestido': 1\n",
      " 'vete': 1\n",
      " 'vive': 1\n",
      "y:\n",
      " 'y': 5\n"
     ]
    }
   ],
   "source": [
    "from collections import Counter\n",
    "import string\n",
    "\n",
    "def WordCounter(filename):\n",
    "    with open(filename, 'rt') as file:\n",
    "        text = file.read()\n",
    "\n",
    "    text = text.translate(str.maketrans('', '', string.punctuation))\n",
    "    text = text.lower()\n",
    "    words = text.split()\n",
    "    words = [word for word in words\n",
    "             if not word.startswith('¡')]\n",
    "    word_counter = Counter(words)\n",
    "\n",
    "    alphabetically_organized = {}\n",
    "    for word, count in word_counter.items():\n",
    "        letter = word[0]\n",
    "        if letter not in alphabetically_organized:\n",
    "            alphabetically_organized[letter] = [(word, count)]\n",
    "        else:\n",
    "            alphabetically_organized[letter].append((word, count))\n",
    "\n",
    "    return alphabetically_organized\n",
    "\n",
    "filename = '/Users/kiku/Desktop/ItAcademy/S7 Python/tu_me_quieres_blanca.txt'\n",
    "wordList = WordCounter(filename)\n",
    "\n",
    "for letter, words_list in sorted(wordList.items()):\n",
    "    print(f\"{letter}:\")\n",
    "    for word, count in sorted(words_list):\n",
    "        print(f\" '{word}': {count}\")\n"
   ]
  }
 ],
 "metadata": {
  "kernelspec": {
   "display_name": "Python 3",
   "language": "python",
   "name": "python3"
  },
  "language_info": {
   "codemirror_mode": {
    "name": "ipython",
    "version": 3
   },
   "file_extension": ".py",
   "mimetype": "text/x-python",
   "name": "python",
   "nbconvert_exporter": "python",
   "pygments_lexer": "ipython3",
   "version": "3.11.8"
  }
 },
 "nbformat": 4,
 "nbformat_minor": 2
}
