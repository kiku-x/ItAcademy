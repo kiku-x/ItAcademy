{
 "cells": [
  {
   "cell_type": "markdown",
   "metadata": {},
   "source": [
    "NIVEL 1"
   ]
  },
  {
   "cell_type": "markdown",
   "metadata": {},
   "source": [
    "Ex 1: Calculadora de l'índex de massa corporal:"
   ]
  },
  {
   "cell_type": "code",
   "execution_count": 6,
   "metadata": {},
   "outputs": [
    {
     "name": "stdout",
     "output_type": "stream",
     "text": [
      "Tienes obesidad. Tu IMC és: 444.44444444444446\n"
     ]
    }
   ],
   "source": [
    "def calcular_imc(altura, peso):\n",
    "    \"\"\"Calcula el IMC a partir de la altura (en metros) y el peso (en kg).\"\"\"\n",
    "    return peso / (altura * altura)\n",
    "\n",
    "def evaluar_imc(imc):\n",
    "    \"\"\"Evalúa el IMC y muestra un mensaje correspondiente.\"\"\"\n",
    "    if imc < 18.5:\n",
    "        print(\"Tienes un bajo peso. Tu IMC es:\", imc)\n",
    "    elif imc < 25:\n",
    "        print(\"Tienes un peso normal. Tu IMC es:\", imc)\n",
    "    elif imc < 30:\n",
    "        print(\"Tienes sobrepeso. Tu IMC es:\", imc)\n",
    "    else:\n",
    "        print(\"Tienes obesidad. Tu IMC es:\", imc)\n",
    "\n",
    "# Pedir datos al usuario\n",
    "altura = float(input(\"Ingresa tu altura en centímetros: \")) / 100  # Conversión a metros\n",
    "peso = float(input(\"Ingresa tu peso en kg: \"))\n",
    "\n",
    "# Calcular y evaluar el IMC\n",
    "imc = calcular_imc(altura, peso)\n",
    "evaluar_imc(imc)\n"
   ]
  },
  {
   "cell_type": "markdown",
   "metadata": {},
   "source": [
    "Ex 2: Convertidor de temperatures de Celsius a Fahrenheit"
   ]
  },
  {
   "cell_type": "code",
   "execution_count": 1,
   "metadata": {},
   "outputs": [
    {
     "name": "stdout",
     "output_type": "stream",
     "text": [
      "La temperatura ingresada es 15.0°C y su conversión a Fahrenheit es 59.0°F\n",
      "La temperatura ingresada es 15.0°F y su conversión a Celsius es -9.444444444444445°C\n"
     ]
    }
   ],
   "source": [
    "# Convertidor de Celsius a Fahrenheit\n",
    "celsius = float(input(\"Ingresa la temperatura en °Celsius: \"))\n",
    "fahrenheit = (celsius * 9 / 5) + 32\n",
    "print(f\"La temperatura ingresada es {celsius}°C y su conversión a Fahrenheit es {fahrenheit}°F\")\n",
    "\n",
    "# Convertidor de Fahrenheit a Celsius\n",
    "fahrenheit = float(input(\"Ingresa la temperatura en °Fahrenheit: \"))\n",
    "celsius = (fahrenheit - 32) * 5 / 9\n",
    "print(f\"La temperatura ingresada es {fahrenheit}°F y su conversión a Celsius es {celsius}°C\")\n"
   ]
  },
  {
   "cell_type": "markdown",
   "metadata": {},
   "source": [
    "Ex 3: Comptador de paraules d'un text."
   ]
  },
  {
   "cell_type": "code",
   "execution_count": 2,
   "metadata": {},
   "outputs": [
    {
     "name": "stdout",
     "output_type": "stream",
     "text": [
      "Conteo de palabras:\n",
      "aa: 1\n",
      "ab: 2\n",
      "bab: 1\n",
      "babab: 1\n"
     ]
    }
   ],
   "source": [
    "textInput = str(input(\"Ingresa el texto del que quieras contar las palabras: \"))\n",
    "\n",
    "palabras = textInput.lower().split()  # Convertir a minúsculas para no diferenciar mayúsculas/minúsculas\n",
    "\n",
    "conteo_palabras = {}  # Diccionario para almacenar el conteo de cada palabra\n",
    "\n",
    "for palabra in palabras:\n",
    "    if palabra in conteo_palabras:\n",
    "        conteo_palabras[palabra] += 1  # Incrementar el conteo si ya existe la palabra\n",
    "    else:\n",
    "        conteo_palabras[palabra] = 1   # Añadir la palabra con conteo 1 si es nueva\n",
    "\n",
    "# Mostrar los resultados\n",
    "print(\"Conteo de palabras:\")\n",
    "for palabra, conteo in conteo_palabras.items():\n",
    "    print(f\"{palabra}: {conteo}\")\n"
   ]
  },
  {
   "cell_type": "markdown",
   "metadata": {},
   "source": [
    "Ex 4: Diccionari invers."
   ]
  },
  {
   "cell_type": "code",
   "execution_count": 134,
   "metadata": {},
   "outputs": [
    {
     "name": "stdout",
     "output_type": "stream",
     "text": [
      "Diccionario original: {'a': 1, 'b': 2, 'c': 3, 'd': 5, 'e': 5}\n",
      "Diccionario inverso: {1: 'a', 2: 'b', 3: 'c', 5: 'e'}\n",
      "Se encontraron valores repetidos.\n"
     ]
    }
   ],
   "source": [
    "def invert_dict(dictionary):\n",
    "    inverted_dict = {value: key for key, value in dictionary.items()}\n",
    "    return inverted_dict\n",
    "\n",
    "def check_duplicates(dictionary):\n",
    "    if len(set(dictionary.values())) != len(dictionary):\n",
    "        print(\"Se encontraron valores repetidos.\")\n",
    "\n",
    "OriginalDictionary = {'a': 1, 'b': 2, 'c': 3, 'd': 5, 'e': 5, }\n",
    "invertedDictionary = invert_dict(OriginalDictionary)\n",
    "\n",
    "print(\"Diccionario original:\", OriginalDictionary)\n",
    "print(\"Diccionario inverso:\", invertedDictionary)\n",
    "check_duplicates(OriginalDictionary)\n",
    "\n"
   ]
  },
  {
   "cell_type": "code",
   "execution_count": 6,
   "metadata": {},
   "outputs": [
    {
     "name": "stdout",
     "output_type": "stream",
     "text": [
      "Se encontraron valores repetidos.\n",
      "Diccionario original: {'a': 1, 'b': 2, 'c': 3, 'd': 5, 'e': 5}\n"
     ]
    }
   ],
   "source": [
    "def invert_dict(dictionary):\n",
    "    # Verificar si hay valores duplicados en el diccionario\n",
    "    if len(set(dictionary.values())) != len(dictionary):\n",
    "        print(\"Se encontraron valores repetidos.\")\n",
    "        return None\n",
    "    # Si no hay duplicados, invertir el diccionario\n",
    "    inverted_dict = {value: key for key, value in dictionary.items()}\n",
    "    return inverted_dict\n",
    "\n",
    "# Diccionario original con valores repetidos\n",
    "OriginalDictionary = {'a': 1, 'b': 2, 'c': 3, 'd': 5, 'e': 5}\n",
    "\n",
    "# Intentar invertir el diccionario\n",
    "invertedDictionary = invert_dict(OriginalDictionary)\n",
    "\n",
    "# Mostrar el diccionario original\n",
    "print(\"Diccionario original:\", OriginalDictionary)\n",
    "\n",
    "# Mostrar el diccionario inverso si no hay valores repetidos\n",
    "if invertedDictionary:\n",
    "    print(\"Diccionario inverso:\", invertedDictionary)\n"
   ]
  },
  {
   "cell_type": "markdown",
   "metadata": {},
   "source": [
    "NIVELL 2"
   ]
  },
  {
   "cell_type": "markdown",
   "metadata": {},
   "source": [
    "Ex 1: Diccionari invers amb duplicats"
   ]
  },
  {
   "cell_type": "code",
   "execution_count": 9,
   "metadata": {},
   "outputs": [
    {
     "name": "stdout",
     "output_type": "stream",
     "text": [
      "Diccionario original: {'x': 'apple', 'y': 'banana', 'z': 'banana'}\n",
      "Valores duplicados: ['banana']\n",
      "Diccionario inverso: {'apple': 'x', 'banana': ['y', 'z']}\n"
     ]
    }
   ],
   "source": [
    "def invert_dict_with_duplicates(dictionary):\n",
    "    inverted_dict = {}\n",
    "    for key, value in dictionary.items():\n",
    "        if value in inverted_dict:\n",
    "            if isinstance(inverted_dict[value], list):\n",
    "                inverted_dict[value].append(key)\n",
    "            else:\n",
    "                inverted_dict[value] = [inverted_dict[value], key]\n",
    "        else:\n",
    "            inverted_dict[value] = key\n",
    "    return inverted_dict\n",
    "\n",
    "def check_duplicates(dictionary):\n",
    "    seen = []\n",
    "    duplicated = []\n",
    "    for value in dictionary.values():\n",
    "        if value in seen:\n",
    "            if value not in duplicated:\n",
    "                duplicated.append(value)\n",
    "        else:\n",
    "            seen.append(value)\n",
    "    return duplicated\n",
    "\n",
    "# Diccionario original\n",
    "OriginalDictionary = {'x': 'apple', 'y': 'banana', 'z': 'banana'}\n",
    "\n",
    "# Verificar duplicados\n",
    "duplicates = check_duplicates(OriginalDictionary)\n",
    "\n",
    "# Invertir el diccionario\n",
    "invertedDictionary = invert_dict_with_duplicates(OriginalDictionary)\n",
    "\n",
    "# Mostrar el diccionario original\n",
    "print(\"Diccionario original:\", OriginalDictionary)\n",
    "\n",
    "# Mostrar duplicados\n",
    "print(\"Valores duplicados:\", duplicates)\n",
    "\n",
    "# Mostrar el diccionario inverso\n",
    "print(\"Diccionario inverso:\", invertedDictionary)\n"
   ]
  },
  {
   "cell_type": "markdown",
   "metadata": {},
   "source": [
    "Ex 2: Conversió de tipus de dades"
   ]
  },
  {
   "cell_type": "code",
   "execution_count": 10,
   "metadata": {},
   "outputs": [
    {
     "name": "stdout",
     "output_type": "stream",
     "text": [
      "Números float:  [1.3, 10000000000.0, 2.0, 1.0, 1.4, 1.0, 2.0, 3.0, 3.4]\n",
      "Números no convertibles:  ['one', 'seven', '3-1/2', 'not-a-number']\n"
     ]
    }
   ],
   "source": [
    "def filterNumbers(inputList):\n",
    "    floatNumbers = []\n",
    "    nonFloatNumbers = []\n",
    "\n",
    "    for element in inputList:\n",
    "        if isinstance(element, str):\n",
    "            try:\n",
    "                floatElement = float(element)\n",
    "                floatNumbers.append(floatElement)\n",
    "            except ValueError:\n",
    "                nonFloatNumbers.append(element)\n",
    "        elif isinstance(element, (int, float)):\n",
    "            floatNumbers.append(float(element))\n",
    "        else:\n",
    "            nonFloatNumbers.append(element)\n",
    "        \n",
    "    return floatNumbers, nonFloatNumbers\n",
    "\n",
    "myList = ['1.3', 'one', '1e10', 'seven', '3-1/2', '2.0', '1.0', '1.4', '1.0', '2.0', '3.0', '3.4', 'not-a-number']\n",
    "floats, nonFloats = filterNumbers(myList)\n",
    "\n",
    "print(\"Números float: \", floats)\n",
    "print(\"Números no convertibles: \", nonFloats)\n"
   ]
  },
  {
   "cell_type": "markdown",
   "metadata": {},
   "source": [
    "NIVELL 3"
   ]
  },
  {
   "cell_type": "markdown",
   "metadata": {},
   "source": [
    "Ex 1: Comptador i endreçador de paraules d'un text."
   ]
  },
  {
   "cell_type": "code",
   "execution_count": 12,
   "metadata": {},
   "outputs": [
    {
     "name": "stdout",
     "output_type": "stream",
     "text": [
      "a:\n",
      " 'a': 3\n",
      " 'agua': 1\n",
      " 'al': 2\n",
      " 'alba': 4\n",
      " 'alcobas': 1\n",
      " 'alimenta': 1\n",
      " 'alma': 1\n",
      " 'amarga': 1\n",
      " 'azucena': 1\n",
      "b:\n",
      " 'baco': 1\n",
      " 'banquete': 1\n",
      " 'bebe': 1\n",
      " 'blanca': 3\n",
      " 'boca': 1\n",
      " 'bosques': 1\n",
      " 'buen': 1\n",
      "c:\n",
      " 'cabañas': 1\n",
      " 'carnes': 2\n",
      " 'casta': 3\n",
      " 'cerrada': 1\n",
      " 'con': 4\n",
      " 'conservas': 1\n",
      " 'copas': 1\n",
      " 'corola': 1\n",
      " 'corriste': 1\n",
      " 'cuando': 2\n",
      " 'cubierto': 1\n",
      " 'cuerpo': 1\n",
      " 'cuáles': 1\n",
      "d:\n",
      " 'de': 8\n",
      " 'dejaste': 1\n",
      " 'del': 1\n",
      " 'diga': 1\n",
      " 'dios': 2\n",
      " 'duerme': 1\n",
      "e:\n",
      " 'el': 4\n",
      " 'ellas': 1\n",
      " 'en': 4\n",
      " 'engaño': 1\n",
      " 'enredada': 1\n",
      " 'entonces': 1\n",
      " 'escarcha': 1\n",
      " 'espumas': 1\n",
      " 'esqueleto': 1\n",
      " 'estrago': 1\n",
      "f:\n",
      " 'festejando': 1\n",
      " 'filtrado': 1\n",
      " 'frutos': 1\n",
      "h:\n",
      " 'habla': 1\n",
      " 'hacia': 1\n",
      " 'haya': 1\n",
      " 'hayas': 1\n",
      " 'hermana': 1\n",
      " 'hombre': 1\n",
      " 'hubiste': 1\n",
      " 'huye': 1\n",
      "i:\n",
      " 'intacto': 1\n",
      "j:\n",
      " 'jardines': 1\n",
      "l:\n",
      " 'la': 3\n",
      " 'labios': 1\n",
      " 'las': 7\n",
      " 'lo': 2\n",
      " 'los': 4\n",
      " 'luna': 1\n",
      " 'lévate': 1\n",
      " 'límpiate': 1\n",
      "m:\n",
      " 'mano': 1\n",
      " 'manos': 1\n",
      " 'margarita': 1\n",
      " 'me': 9\n",
      " 'mi': 1\n",
      " 'mieles': 1\n",
      " 'milagros': 1\n",
      " 'mojada': 1\n",
      " 'montaña': 1\n",
      " 'morados': 1\n",
      "n:\n",
      " 'negros': 1\n",
      " 'ni': 2\n",
      " 'no': 1\n",
      " 'nácar': 1\n",
      " 'nívea': 2\n",
      "p:\n",
      " 'perdone': 2\n",
      " 'perfume': 1\n",
      " 'por': 2\n",
      " 'pretendes': 3\n",
      " 'preténdeme': 3\n",
      " 'puesto': 1\n",
      " 'pájaros': 1\n",
      " 'pámpanos': 1\n",
      "q:\n",
      " 'que': 6\n",
      " 'quedó': 1\n",
      " 'quieres': 6\n",
      "r:\n",
      " 'rayo': 1\n",
      " 'raíz': 1\n",
      " 'renueva': 1\n",
      " 'rocas': 1\n",
      " 'rojo': 1\n",
      "s:\n",
      " 'salitre': 1\n",
      " 'se': 2\n",
      " 'sea': 1\n",
      " 'sean': 1\n",
      " 'sobre': 2\n",
      " 'sé': 1\n",
      "t:\n",
      " 'te': 3\n",
      " 'tejidos': 1\n",
      " 'tenue': 1\n",
      " 'tierra': 1\n",
      " 'toca': 1\n",
      " 'todas': 2\n",
      " 'todavía': 1\n",
      " 'tornadas': 1\n",
      " 'tú': 8\n",
      "u:\n",
      " 'un': 1\n",
      " 'una': 1\n",
      "v:\n",
      " 'vestido': 1\n",
      " 'vete': 1\n",
      " 'vive': 1\n",
      "y:\n",
      " 'y': 5\n"
     ]
    }
   ],
   "source": [
    "from collections import Counter, defaultdict\n",
    "import string\n",
    "\n",
    "def WordCounter(filename):\n",
    "    with open(filename, 'rt') as file:\n",
    "        text = file.read()\n",
    "\n",
    "    text = text.translate(str.maketrans('', '', string.punctuation)).lower()\n",
    "    words = [word for word in text.split() if not word.startswith('¡')]\n",
    "    word_counter = Counter(words)\n",
    "\n",
    "    alphabetically_organized = defaultdict(list)\n",
    "    for word, count in word_counter.items():\n",
    "        alphabetically_organized[word[0]].append((word, count))\n",
    "\n",
    "    return alphabetically_organized\n",
    "\n",
    "filename = '/Users/kiku/Desktop/ItAcademy/S7 Python/tu_me_quieres_blanca.txt'\n",
    "wordList = WordCounter(filename)\n",
    "\n",
    "for letter, words_list in sorted(wordList.items()):\n",
    "    print(f\"{letter}:\")\n",
    "    for word, count in sorted(words_list):\n",
    "        print(f\" '{word}': {count}\")\n"
   ]
  },
  {
   "cell_type": "code",
   "execution_count": null,
   "metadata": {},
   "outputs": [],
   "source": []
  }
 ],
 "metadata": {
  "kernelspec": {
   "display_name": "Python 3",
   "language": "python",
   "name": "python3"
  },
  "language_info": {
   "codemirror_mode": {
    "name": "ipython",
    "version": 3
   },
   "file_extension": ".py",
   "mimetype": "text/x-python",
   "name": "python",
   "nbconvert_exporter": "python",
   "pygments_lexer": "ipython3",
   "version": "3.12.2"
  }
 },
 "nbformat": 4,
 "nbformat_minor": 2
}
